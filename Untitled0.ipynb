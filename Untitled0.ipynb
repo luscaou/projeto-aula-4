{
  "nbformat": 4,
  "nbformat_minor": 0,
  "metadata": {
    "colab": {
      "provenance": [],
      "authorship_tag": "ABX9TyOkPntTHhFOZvP2El7gHmrH",
      "include_colab_link": true
    },
    "kernelspec": {
      "name": "python3",
      "display_name": "Python 3"
    },
    "language_info": {
      "name": "python"
    }
  },
  "cells": [
    {
      "cell_type": "markdown",
      "metadata": {
        "id": "view-in-github",
        "colab_type": "text"
      },
      "source": [
        "<a href=\"https://colab.research.google.com/github/luscaou/projeto-aula-4/blob/main/Untitled0.ipynb\" target=\"_parent\"><img src=\"https://colab.research.google.com/assets/colab-badge.svg\" alt=\"Open In Colab\"/></a>"
      ]
    },
    {
      "cell_type": "code",
      "execution_count": null,
      "metadata": {
        "id": "H8SehTuFPwqB"
      },
      "outputs": [],
      "source": [
        "import datetime\n",
        "import time\n",
        "import os\n",
        "\n",
        "def calcular_tempo_restante(hora_do_remédio):\n",
        "    agora = datetime.datetime.now()\n",
        "    diferenca = hora_do_remédio - agora\n",
        "    segundos_restantes = diferenca.total_seconds()\n",
        "    horas_restantes = segundos_restantes // 3600\n",
        "    minutos_restantes = (segundos_restantes % 3600) // 60\n",
        "    return horas_restantes, minutos_restantes\n",
        "\n",
        "def tocar_alarme():\n",
        "    for _ in range(3):\n",
        "        os.system(\"afplay alarm.wav\")  # Substitua \"alarm.wav\" pelo nome do seu arquivo de som\n",
        "        time.sleep(2)\n",
        "\n",
        "def main():\n",
        "    while True:\n",
        "        nome_remedio = input(\"Digite o nome do remédio: \")\n",
        "        hora_do_remédio_str = input(\"Digite a hora do remédio (HH:MM): \")\n",
        "        hora_do_remédio = datetime.datetime.strptime(hora_do_remédio_str, \"%H:%M\")\n",
        "\n",
        "        while True:\n",
        "            horas_restantes, minutos_restantes = calcular_tempo_restante(hora_do_remédio)\n",
        "            print(f\"Faltam {int(horas_restantes)} horas e {int(minutos_restantes)} minutos para tomar {nome_remedio}.\")\n",
        "\n",
        "            if horas_restantes == 0 and minutos_restantes <= 5:\n",
        "                print(\"Hora de tomar o remédio!\")\n",
        "                tocar_alarme()\n",
        "\n",
        "            opcao = input(\"Você tomou o remédio? (s/n): \").lower()\n",
        "            if opcao == \"s\":\n",
        "                break\n",
        "            else:\n",
        "                time.sleep(300)  # Espera 5 minutos antes de verificar novamente\n",
        "\n",
        "if __name__ == \"__main__\":\n",
        "    main()\n"
      ]
    }
  ]
}