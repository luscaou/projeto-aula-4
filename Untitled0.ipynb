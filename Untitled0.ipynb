{
  "nbformat": 4,
  "nbformat_minor": 0,
  "metadata": {
    "colab": {
      "provenance": [],
      "authorship_tag": "ABX9TyMwY0rDvXQpHwcu65ei1CVA",
      "include_colab_link": true
    },
    "kernelspec": {
      "name": "python3",
      "display_name": "Python 3"
    },
    "language_info": {
      "name": "python"
    }
  },
  "cells": [
    {
      "cell_type": "markdown",
      "metadata": {
        "id": "view-in-github",
        "colab_type": "text"
      },
      "source": [
        "<a href=\"https://colab.research.google.com/github/luscaou/projeto-aula-4/blob/main/Untitled0.ipynb\" target=\"_parent\"><img src=\"https://colab.research.google.com/assets/colab-badge.svg\" alt=\"Open In Colab\"/></a>"
      ]
    },
    {
      "cell_type": "code",
      "execution_count": null,
      "metadata": {
        "id": "H8SehTuFPwqB"
      },
      "outputs": [],
      "source": [
        "!pip install -q -U google-generativeai\n",
        "\n",
        "import google.generativeai as genai\n",
        "\n",
        "GOOGLE_API_KEY=\"SUA_API_KEY_AQUI\"\n",
        "genai.configure(api_key=GOOGLE_API_KEY)\n",
        "\n",
        "## Listar os modelos disponíveis\n",
        "for m in genai.list_models():\n",
        "    if 'generateContent' in m.supported_generation_methods:\n",
        "        print(m.name)\n",
        "\n",
        "## Configurações de geração\n",
        "generation_config = {\n",
        "    \"candidate_count\": 1,\n",
        "    \"temperature\": 0.5\n",
        "}\n",
        "\n",
        "safety_settings = {\n",
        "    \"HARASSEMENT\": \"BLOCK_NONE\",\n",
        "    \"HATE\": \"BLOCK_NONE\",\n",
        "    \"SEXUAL\": \"BLOCK_NONE\",\n",
        "    \"DANGEROUS\": \"BLOCK_NONE\"\n",
        "}\n",
        "\n",
        "## Inicializar o modelo\n",
        "model = genai.GenerativeModel(model_name=\"gemini-1.0-pro\", generation_config=generation_config, safety_settings=safety_settings)\n",
        "\n",
        "## Iniciar o chat\n",
        "chat = model.start_chat(history=[])\n",
        "\n",
        "## Enviar mensagens para o chat\n",
        "prompt = input(\"Esperando prompt: \")\n",
        "while prompt != \"fim\":\n",
        "    response = chat.send_message(prompt)\n",
        "    print(\"Resposta: \", response.text, \"\\n\")\n",
        "    prompt = input(\"Esperando prompt: \")"
      ]
    }
  ]
}